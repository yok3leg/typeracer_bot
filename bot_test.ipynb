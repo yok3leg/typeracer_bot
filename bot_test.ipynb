{
 "cells": [
  {
   "cell_type": "code",
   "execution_count": 35,
   "metadata": {},
   "outputs": [
    {
     "name": "stdout",
     "output_type": "stream",
     "text": [
      "And I knew that in spite of all the roses and kisses and\n",
      "restaurant dinners a man showered on a woman before he\n",
      "married her, what he secretly wanted when the wedding\n",
      "service ended was for her to flatten out underneath his\n",
      "feet like Mrs Willard's kitchen mat.\n",
      "\n",
      "change display format\n",
      "\n",
      "@\n",
      "\n",
      "\n"
     ]
    }
   ],
   "source": [
    "import pyautogui # capture screen and perform keystrokes\n",
    "from PIL import Image\n",
    "import pytesseract # image to words recognization\n",
    "import time\n",
    "\n",
    "pytesseract.pytesseract.tesseract_cmd = '/opt/homebrew/bin/tesseract'\n",
    "\n",
    "# Capture the screen\n",
    "screenshot = pyautogui.screenshot()\n",
    "\n",
    "# Define the coordinates for the region to crop (left, upper, right, lower)\n",
    "left = 0\n",
    "upper = 900\n",
    "right = 1500\n",
    "lower = 1500\n",
    "\n",
    "# Crop the region\n",
    "cropped_image = screenshot.crop((left, upper, right, lower))\n",
    "\n",
    "# Display the cropped image\n",
    "# cropped_image.show()\n",
    "\n",
    "# Extract text from the cropped image using pytesseract\n",
    "extracted_text = pytesseract.image_to_string(cropped_image)\n",
    "\n",
    "# Skip the first character if it's 'l'\n",
    "if extracted_text.startswith('l') or extracted_text.startswith('|') or extracted_text.startswith('[') or extracted_text.startswith(']'):\n",
    "    extracted_text = extracted_text[1:]\n",
    "# Print the extracted text\n",
    "print(extracted_text)\n",
    "\n",
    "# Perform keystrokes character by character\n",
    "time.sleep(3)\n",
    "for char in extracted_text:\n",
    "    if char == '\\n':\n",
    "        pyautogui.typewrite(' ')  # Replace newline with spacebar\n",
    "    else:\n",
    "        pyautogui.typewrite(char)\n",
    "    time.sleep(0.001)  # Adjust typing speed if needed"
   ]
  }
 ],
 "metadata": {
  "kernelspec": {
   "display_name": "Python 3",
   "language": "python",
   "name": "python3"
  },
  "language_info": {
   "codemirror_mode": {
    "name": "ipython",
    "version": 3
   },
   "file_extension": ".py",
   "mimetype": "text/x-python",
   "name": "python",
   "nbconvert_exporter": "python",
   "pygments_lexer": "ipython3",
   "version": "3.9.6"
  }
 },
 "nbformat": 4,
 "nbformat_minor": 2
}
